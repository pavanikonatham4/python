{
  "nbformat": 4,
  "nbformat_minor": 0,
  "metadata": {
    "colab": {
      "provenance": [],
      "authorship_tag": "ABX9TyPbXv98QZ6NJcj4b8RdYRPP",
      "include_colab_link": true
    },
    "kernelspec": {
      "name": "python3",
      "display_name": "Python 3"
    },
    "language_info": {
      "name": "python"
    }
  },
  "cells": [
    {
      "cell_type": "markdown",
      "metadata": {
        "id": "view-in-github",
        "colab_type": "text"
      },
      "source": [
        "<a href=\"https://colab.research.google.com/github/pavanikonatham4/python/blob/main/Python_Program_for_Array_Rotation_Using_4_Juggling_Algorithm.ipynb\" target=\"_parent\"><img src=\"https://colab.research.google.com/assets/colab-badge.svg\" alt=\"Open In Colab\"/></a>"
      ]
    },
    {
      "cell_type": "code",
      "execution_count": 1,
      "metadata": {
        "colab": {
          "base_uri": "https://localhost:8080/"
        },
        "id": "xQBl48LqYCIV",
        "outputId": "4e70750c-6890-4cf3-ddbd-f6aba5090ffb"
      },
      "outputs": [
        {
          "output_type": "stream",
          "name": "stdout",
          "text": [
            "3 4 5 6 7 1 2 "
          ]
        }
      ],
      "source": [
        "# Function to left rotate arr[] of size n by d\n",
        "def leftRotate(arr, d, n):\n",
        "\tfor i in range(gcd(d, n)):\n",
        "\n",
        "\t\t# move i-th values of blocks\n",
        "\t\ttemp = arr[i]\n",
        "\t\tj = i\n",
        "\t\twhile 1:\n",
        "\t\t\tk = j + d\n",
        "\t\t\tif k >= n:\n",
        "\t\t\t\tk = k - n\n",
        "\t\t\tif k == i:\n",
        "\t\t\t\tbreak\n",
        "\t\t\tarr[j] = arr[k]\n",
        "\t\t\tj = k\n",
        "\t\tarr[j] = temp\n",
        "\n",
        "# UTILITY FUNCTIONS\n",
        "# function to print an array\n",
        "\n",
        "\n",
        "def printArray(arr, size):\n",
        "\tfor i in range(size):\n",
        "\t\tprint(\"%d\" % arr[i], end=\" \")\n",
        "\n",
        "# Function to get gcd of a and b\n",
        "\n",
        "\n",
        "def gcd(a, b):\n",
        "\tif b == 0:\n",
        "\t\treturn a\n",
        "\telse:\n",
        "\t\treturn gcd(b, a % b)\n",
        "\n",
        "\n",
        "# Driver program to test above functions\n",
        "arr = [1, 2, 3, 4, 5, 6, 7]\n",
        "leftRotate(arr, 2, 7)\n",
        "printArray(arr, 7)\n"
      ]
    }
  ]
}