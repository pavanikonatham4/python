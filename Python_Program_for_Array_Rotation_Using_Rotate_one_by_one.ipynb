{
  "nbformat": 4,
  "nbformat_minor": 0,
  "metadata": {
    "colab": {
      "provenance": [],
      "authorship_tag": "ABX9TyPfDHcDYoHfz5PVZHdeyvRJ",
      "include_colab_link": true
    },
    "kernelspec": {
      "name": "python3",
      "display_name": "Python 3"
    },
    "language_info": {
      "name": "python"
    }
  },
  "cells": [
    {
      "cell_type": "markdown",
      "metadata": {
        "id": "view-in-github",
        "colab_type": "text"
      },
      "source": [
        "<a href=\"https://colab.research.google.com/github/pavanikonatham4/python/blob/main/Python_Program_for_Array_Rotation_Using_Rotate_one_by_one.ipynb\" target=\"_parent\"><img src=\"https://colab.research.google.com/assets/colab-badge.svg\" alt=\"Open In Colab\"/></a>"
      ]
    },
    {
      "cell_type": "code",
      "execution_count": 1,
      "metadata": {
        "colab": {
          "base_uri": "https://localhost:8080/"
        },
        "id": "iXwmKy2OJlsE",
        "outputId": "fd4b9cb4-80b9-44aa-9e24-158e1cab0861"
      },
      "outputs": [
        {
          "output_type": "stream",
          "name": "stdout",
          "text": [
            "3 4 5 6 7 1 2 "
          ]
        }
      ],
      "source": [
        "#Function to left rotate arr[] of size n by d*/\n",
        "def leftRotate(arr, d, n):\n",
        "\tfor i in range(d):\n",
        "\t\tleftRotatebyOne(arr, n)\n",
        "\n",
        "#Function to left Rotate arr[] of size n by 1*/\n",
        "def leftRotatebyOne(arr, n):\n",
        "\ttemp = arr[0]\n",
        "\tfor i in range(n-1):\n",
        "\t\tarr[i] = arr[i+1]\n",
        "\tarr[n-1] = temp\n",
        "\n",
        "\n",
        "# utility function to print an array */\n",
        "def printArray(arr,size):\n",
        "\tfor i in range(size):\n",
        "\t\tprint (\"%d\"% arr[i],end=\" \")\n",
        "\n",
        "\n",
        "# Driver program to test above functions */\n",
        "arr = [1, 2, 3, 4, 5, 6, 7]\n",
        "leftRotate(arr, 2, 7)\n",
        "printArray(arr, 7)\n"
      ]
    }
  ]
}