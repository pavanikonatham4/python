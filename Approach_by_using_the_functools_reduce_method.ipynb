{
  "nbformat": 4,
  "nbformat_minor": 0,
  "metadata": {
    "colab": {
      "provenance": [],
      "authorship_tag": "ABX9TyPr5G4d9xOoRzQPrnYf3jQF",
      "include_colab_link": true
    },
    "kernelspec": {
      "name": "python3",
      "display_name": "Python 3"
    },
    "language_info": {
      "name": "python"
    }
  },
  "cells": [
    {
      "cell_type": "markdown",
      "metadata": {
        "id": "view-in-github",
        "colab_type": "text"
      },
      "source": [
        "<a href=\"https://colab.research.google.com/github/pavanikonatham4/python/blob/main/Approach_by_using_the_functools_reduce_method.ipynb\" target=\"_parent\"><img src=\"https://colab.research.google.com/assets/colab-badge.svg\" alt=\"Open In Colab\"/></a>"
      ]
    },
    {
      "cell_type": "code",
      "execution_count": 1,
      "metadata": {
        "colab": {
          "base_uri": "https://localhost:8080/"
        },
        "id": "3ipSrUhRYdsX",
        "outputId": "0f0ac490-0432-4ae1-ee93-8e75c49696c1"
      },
      "outputs": [
        {
          "output_type": "stream",
          "name": "stdout",
          "text": [
            "9\n",
            "0\n"
          ]
        }
      ],
      "source": [
        "from functools import reduce\n",
        "\n",
        "def remainderAfterMultiplication(arr, n):\n",
        "\tresult = reduce(lambda x, y: (x * y) % n, arr)\n",
        "\treturn result\n",
        "\n",
        "# Driver Code\n",
        "arr1 = [100, 10, 5, 25, 35, 14]\n",
        "n1 = 11\n",
        "result1 = remainderAfterMultiplication(arr1, n1)\n",
        "print(result1)\n",
        "\n",
        "arr2 = [100, 10]\n",
        "n2 = 5\n",
        "result2 = remainderAfterMultiplication(arr2, n2)\n",
        "print(result2)\n"
      ]
    }
  ]
}