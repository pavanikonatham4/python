{
  "nbformat": 4,
  "nbformat_minor": 0,
  "metadata": {
    "colab": {
      "provenance": [],
      "authorship_tag": "ABX9TyOvPKRJ+hCr+Hgah0+gYxNI",
      "include_colab_link": true
    },
    "kernelspec": {
      "name": "python3",
      "display_name": "Python 3"
    },
    "language_info": {
      "name": "python"
    }
  },
  "cells": [
    {
      "cell_type": "markdown",
      "metadata": {
        "id": "view-in-github",
        "colab_type": "text"
      },
      "source": [
        "<a href=\"https://colab.research.google.com/github/pavanikonatham4/python/blob/main/By_using_all_and_any_Functions.ipynb\" target=\"_parent\"><img src=\"https://colab.research.google.com/assets/colab-badge.svg\" alt=\"Open In Colab\"/></a>"
      ]
    },
    {
      "cell_type": "code",
      "execution_count": 1,
      "metadata": {
        "colab": {
          "base_uri": "https://localhost:8080/"
        },
        "id": "AM-a8WgjKlDi",
        "outputId": "5f8da483-6ba3-4370-a332-5a60b3929a0b"
      },
      "outputs": [
        {
          "output_type": "stream",
          "name": "stdout",
          "text": [
            "True\n",
            "False\n"
          ]
        }
      ],
      "source": [
        "def is_monotonic(arr):\n",
        "    increasing = all(arr[i] <= arr[i + 1] for i in range(len(arr) - 1))\n",
        "    decreasing = all(arr[i] >= arr[i + 1] for i in range(len(arr) - 1))\n",
        "\n",
        "    return increasing or decreasing\n",
        "\n",
        "# Example\n",
        "input_array1 = [6, 5, 4, 4]\n",
        "input_array2 = [5, 15, 20, 10]\n",
        "result1 = is_monotonic(input_array1)\n",
        "result2 = is_monotonic(input_array2)\n",
        "print(result1)\n",
        "print(result2)\n"
      ]
    }
  ]
}