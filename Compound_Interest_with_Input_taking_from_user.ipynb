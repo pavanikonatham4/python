{
  "nbformat": 4,
  "nbformat_minor": 0,
  "metadata": {
    "colab": {
      "provenance": [],
      "authorship_tag": "ABX9TyPpaRZt/qwFKqXa2KHOMySG",
      "include_colab_link": true
    },
    "kernelspec": {
      "name": "python3",
      "display_name": "Python 3"
    },
    "language_info": {
      "name": "python"
    }
  },
  "cells": [
    {
      "cell_type": "markdown",
      "metadata": {
        "id": "view-in-github",
        "colab_type": "text"
      },
      "source": [
        "<a href=\"https://colab.research.google.com/github/pavanikonatham4/python/blob/main/Compound_Interest_with_Input_taking_from_user.ipynb\" target=\"_parent\"><img src=\"https://colab.research.google.com/assets/colab-badge.svg\" alt=\"Open In Colab\"/></a>"
      ]
    },
    {
      "cell_type": "code",
      "execution_count": 1,
      "metadata": {
        "colab": {
          "base_uri": "https://localhost:8080/"
        },
        "id": "SZdq9owdKrJW",
        "outputId": "187c1a73-af34-452f-8eab-16f8051ed1ec"
      },
      "outputs": [
        {
          "output_type": "stream",
          "name": "stdout",
          "text": [
            "Enter the principal amount: 200\n",
            "Enter rate of interest: 6\n",
            "Enter time in years: 20\n",
            "Compound interest is 441.42709444256957\n"
          ]
        }
      ],
      "source": [
        "# Python3 program to find compound\n",
        "# interest for input taking from user.\n",
        "\n",
        "\n",
        "def compound_interest(principal, rate, time):\n",
        "\n",
        "\t# Calculates compound interest\n",
        "\tAmount = principal * (pow((1 + rate / 100), time))\n",
        "\tCI = Amount - principal\n",
        "\tprint(\"Compound interest is\", CI)\n",
        "\n",
        "\n",
        "# Driver Code\n",
        "#Taking input from user.\n",
        "principal = int(input(\"Enter the principal amount: \"))\n",
        "rate = int(input(\"Enter rate of interest: \"))\n",
        "time = int(input(\"Enter time in years: \" ))\n",
        "#Function Call\n",
        "compound_interest(principal,rate,time)\n",
        "\n"
      ]
    }
  ]
}