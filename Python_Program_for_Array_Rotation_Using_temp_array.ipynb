{
  "nbformat": 4,
  "nbformat_minor": 0,
  "metadata": {
    "colab": {
      "provenance": [],
      "authorship_tag": "ABX9TyNqN8fqPZqTP3IdIaU4O07v",
      "include_colab_link": true
    },
    "kernelspec": {
      "name": "python3",
      "display_name": "Python 3"
    },
    "language_info": {
      "name": "python"
    }
  },
  "cells": [
    {
      "cell_type": "markdown",
      "metadata": {
        "id": "view-in-github",
        "colab_type": "text"
      },
      "source": [
        "<a href=\"https://colab.research.google.com/github/pavanikonatham4/python/blob/main/Python_Program_for_Array_Rotation_Using_temp_array.ipynb\" target=\"_parent\"><img src=\"https://colab.research.google.com/assets/colab-badge.svg\" alt=\"Open In Colab\"/></a>"
      ]
    },
    {
      "cell_type": "code",
      "execution_count": null,
      "metadata": {
        "id": "6WnPRKKkArHv"
      },
      "outputs": [],
      "source": [
        "# function to rotate array by d elements using temp array\n",
        "def rotateArray(arr, n, d):\n",
        "\ttemp = []\n",
        "\ti = 0\n",
        "\twhile (i < d):\n",
        "\t\ttemp.append(arr[i])\n",
        "\t\ti = i + 1\n",
        "\ti = 0\n",
        "\twhile (d < n):\n",
        "\t\tarr[i] = arr[d]\n",
        "\t\ti = i + 1\n",
        "\t\td = d + 1\n",
        "\tarr[:] = arr[: i] + temp\n",
        "\treturn arr\n",
        "\n",
        "\n",
        "# Driver function to test above function\n",
        "arr = [1, 2, 3, 4, 5, 6, 7]\n",
        "print(\"Array after left rotation is: \", end=' ')\n",
        "print(rotateArray(arr, len(arr), 2))\n"
      ]
    }
  ]
}