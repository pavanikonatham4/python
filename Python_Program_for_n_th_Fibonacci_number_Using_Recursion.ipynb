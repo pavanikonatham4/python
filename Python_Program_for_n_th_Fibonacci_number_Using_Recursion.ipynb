{
  "nbformat": 4,
  "nbformat_minor": 0,
  "metadata": {
    "colab": {
      "provenance": [],
      "authorship_tag": "ABX9TyPYycIpC1ZBgbb79pb+/qU6",
      "include_colab_link": true
    },
    "kernelspec": {
      "name": "python3",
      "display_name": "Python 3"
    },
    "language_info": {
      "name": "python"
    }
  },
  "cells": [
    {
      "cell_type": "markdown",
      "metadata": {
        "id": "view-in-github",
        "colab_type": "text"
      },
      "source": [
        "<a href=\"https://colab.research.google.com/github/pavanikonatham4/python/blob/main/Python_Program_for_n_th_Fibonacci_number_Using_Recursion.ipynb\" target=\"_parent\"><img src=\"https://colab.research.google.com/assets/colab-badge.svg\" alt=\"Open In Colab\"/></a>"
      ]
    },
    {
      "cell_type": "code",
      "execution_count": 1,
      "metadata": {
        "colab": {
          "base_uri": "https://localhost:8080/"
        },
        "id": "_rx4rdz_dBsc",
        "outputId": "61dc2ab2-2122-4b5d-83c1-d37317dc44dd"
      },
      "outputs": [
        {
          "output_type": "stream",
          "name": "stdout",
          "text": [
            "34\n"
          ]
        }
      ],
      "source": [
        "# Function for nth Fibonacci number\n",
        "def Fibonacci(n):\n",
        "    if n<= 0:\n",
        "        print(\"Incorrect input\")\n",
        "    # First Fibonacci number is 0\n",
        "    elif n == 1:\n",
        "        return 0\n",
        "    # Second Fibonacci number is 1\n",
        "    elif n == 2:\n",
        "        return 1\n",
        "    else:\n",
        "        return Fibonacci(n-1)+Fibonacci(n-2)\n",
        "\n",
        "# Driver Program\n",
        "\n",
        "print(Fibonacci(10))"
      ]
    }
  ]
}