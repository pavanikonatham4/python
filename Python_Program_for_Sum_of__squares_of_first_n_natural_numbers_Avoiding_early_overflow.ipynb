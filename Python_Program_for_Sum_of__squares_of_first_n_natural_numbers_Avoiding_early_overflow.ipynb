{
  "nbformat": 4,
  "nbformat_minor": 0,
  "metadata": {
    "colab": {
      "provenance": [],
      "authorship_tag": "ABX9TyPF5AdRTVPpRCNRgqk1mCBE",
      "include_colab_link": true
    },
    "kernelspec": {
      "name": "python3",
      "display_name": "Python 3"
    },
    "language_info": {
      "name": "python"
    }
  },
  "cells": [
    {
      "cell_type": "markdown",
      "metadata": {
        "id": "view-in-github",
        "colab_type": "text"
      },
      "source": [
        "<a href=\"https://colab.research.google.com/github/pavanikonatham4/python/blob/main/Python_Program_for_Sum_of__squares_of_first_n_natural_numbers_Avoiding_early_overflow.ipynb\" target=\"_parent\"><img src=\"https://colab.research.google.com/assets/colab-badge.svg\" alt=\"Open In Colab\"/></a>"
      ]
    },
    {
      "cell_type": "code",
      "execution_count": 1,
      "metadata": {
        "colab": {
          "base_uri": "https://localhost:8080/"
        },
        "id": "Gvz4vvdUyNYv",
        "outputId": "c6850a02-b7de-4094-faf2-946f7f5cad84"
      },
      "outputs": [
        {
          "output_type": "stream",
          "name": "stdout",
          "text": [
            "30.0\n"
          ]
        }
      ],
      "source": [
        "#Python Program to find sum of square of first\n",
        "# n natural numbers. This program avoids\n",
        "# overflow upto some extent for large value\n",
        "# of n.y\n",
        "\n",
        "\n",
        "def squaresum(n):\n",
        "    return (n * (n + 1) / 2) * (2 * n + 1) / 3\n",
        "\n",
        "\n",
        "# main()\n",
        "n = 4\n",
        "print(squaresum(n))\n"
      ]
    }
  ]
}