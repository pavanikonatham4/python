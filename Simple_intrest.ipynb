{
  "nbformat": 4,
  "nbformat_minor": 0,
  "metadata": {
    "colab": {
      "provenance": [],
      "authorship_tag": "ABX9TyNOFt8+ss2DPp2pTg93C5PQ",
      "include_colab_link": true
    },
    "kernelspec": {
      "name": "python3",
      "display_name": "Python 3"
    },
    "language_info": {
      "name": "python"
    }
  },
  "cells": [
    {
      "cell_type": "markdown",
      "metadata": {
        "id": "view-in-github",
        "colab_type": "text"
      },
      "source": [
        "<a href=\"https://colab.research.google.com/github/pavanikonatham4/python/blob/main/Simple_intrest.ipynb\" target=\"_parent\"><img src=\"https://colab.research.google.com/assets/colab-badge.svg\" alt=\"Open In Colab\"/></a>"
      ]
    },
    {
      "cell_type": "code",
      "execution_count": 1,
      "metadata": {
        "colab": {
          "base_uri": "https://localhost:8080/"
        },
        "id": "pBpfSejqwKey",
        "outputId": "7e6802e3-582e-46ad-ede0-626b13fb2481"
      },
      "outputs": [
        {
          "output_type": "stream",
          "name": "stdout",
          "text": [
            "3.84\n"
          ]
        }
      ],
      "source": [
        "# function definition\n",
        "def fun(p, t, r):\n",
        "    return (p * t * r) / 100\n",
        "\n",
        "# given values for principal (p), time (t) in years and rate of interest (r) per annum\n",
        "p, t, r = 8, 6, 8\n",
        "\n",
        "# function calling\n",
        "res = fun(p, t, r)\n",
        "\n",
        "print(res)"
      ]
    }
  ]
}