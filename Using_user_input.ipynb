{
  "nbformat": 4,
  "nbformat_minor": 0,
  "metadata": {
    "colab": {
      "provenance": [],
      "authorship_tag": "ABX9TyN/jxZMTZaYA7IDPTdxj2zJ",
      "include_colab_link": true
    },
    "kernelspec": {
      "name": "python3",
      "display_name": "Python 3"
    },
    "language_info": {
      "name": "python"
    }
  },
  "cells": [
    {
      "cell_type": "markdown",
      "metadata": {
        "id": "view-in-github",
        "colab_type": "text"
      },
      "source": [
        "<a href=\"https://colab.research.google.com/github/pavanikonatham4/python/blob/main/Using_user_input.ipynb\" target=\"_parent\"><img src=\"https://colab.research.google.com/assets/colab-badge.svg\" alt=\"Open In Colab\"/></a>"
      ]
    },
    {
      "cell_type": "code",
      "execution_count": 1,
      "metadata": {
        "colab": {
          "base_uri": "https://localhost:8080/"
        },
        "id": "PIaLgFqS9ELR",
        "outputId": "07e0c9b7-a613-4a1b-a036-5ab4e9475867"
      },
      "outputs": [
        {
          "output_type": "stream",
          "name": "stdout",
          "text": [
            "First number: 2\n",
            "Second number: 4\n",
            "6.0\n"
          ]
        }
      ],
      "source": [
        "# taking user input\n",
        "a = input(\"First number: \")\n",
        "b = input(\"Second number: \")\n",
        "\n",
        "# converting input to float and adding\n",
        "res = float(a) + float(b)\n",
        "\n",
        "print(res)"
      ]
    }
  ]
}