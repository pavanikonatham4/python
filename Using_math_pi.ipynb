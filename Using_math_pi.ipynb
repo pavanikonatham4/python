{
  "nbformat": 4,
  "nbformat_minor": 0,
  "metadata": {
    "colab": {
      "provenance": [],
      "authorship_tag": "ABX9TyO1nGwuGeQYhopnYVffIXp/",
      "include_colab_link": true
    },
    "kernelspec": {
      "name": "python3",
      "display_name": "Python 3"
    },
    "language_info": {
      "name": "python"
    }
  },
  "cells": [
    {
      "cell_type": "markdown",
      "metadata": {
        "id": "view-in-github",
        "colab_type": "text"
      },
      "source": [
        "<a href=\"https://colab.research.google.com/github/pavanikonatham4/python/blob/main/Using_math_pi.ipynb\" target=\"_parent\"><img src=\"https://colab.research.google.com/assets/colab-badge.svg\" alt=\"Open In Colab\"/></a>"
      ]
    },
    {
      "cell_type": "code",
      "execution_count": 1,
      "metadata": {
        "colab": {
          "base_uri": "https://localhost:8080/"
        },
        "id": "Ma878gxLPhzJ",
        "outputId": "18f5078d-3241-4981-e486-690d26e56545"
      },
      "outputs": [
        {
          "output_type": "stream",
          "name": "stdout",
          "text": [
            "78.53981633974483\n"
          ]
        }
      ],
      "source": [
        "import math\n",
        "r = 5 # radius\n",
        "\n",
        "area = math.pi * (r ** 2)\n",
        "print(area)"
      ]
    }
  ]
}