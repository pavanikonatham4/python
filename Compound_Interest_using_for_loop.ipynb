{
  "nbformat": 4,
  "nbformat_minor": 0,
  "metadata": {
    "colab": {
      "provenance": [],
      "authorship_tag": "ABX9TyOzJNQRP//9t63j4zTUxn36",
      "include_colab_link": true
    },
    "kernelspec": {
      "name": "python3",
      "display_name": "Python 3"
    },
    "language_info": {
      "name": "python"
    }
  },
  "cells": [
    {
      "cell_type": "markdown",
      "metadata": {
        "id": "view-in-github",
        "colab_type": "text"
      },
      "source": [
        "<a href=\"https://colab.research.google.com/github/pavanikonatham4/python/blob/main/Compound_Interest_using_for_loop.ipynb\" target=\"_parent\"><img src=\"https://colab.research.google.com/assets/colab-badge.svg\" alt=\"Open In Colab\"/></a>"
      ]
    },
    {
      "cell_type": "code",
      "execution_count": 1,
      "metadata": {
        "colab": {
          "base_uri": "https://localhost:8080/"
        },
        "id": "MV3GCTrwLXeR",
        "outputId": "e7496483-9270-4160-d418-79a9ea648aa1"
      },
      "outputs": [
        {
          "output_type": "stream",
          "name": "stdout",
          "text": [
            "Compound interest is 133.0992000000001\n"
          ]
        }
      ],
      "source": [
        "def compound_interest(principal, rate, time):\n",
        "\tAmount = principal\n",
        "\tfor i in range(time):\n",
        "\t\tAmount = Amount * (1 + rate/100)\n",
        "\tCI = Amount - principal\n",
        "\tprint(\"Compound interest is\", CI)\n",
        "# Driver Code\n",
        "compound_interest(1200, 5.4, 2)\n",
        "\n"
      ]
    }
  ]
}