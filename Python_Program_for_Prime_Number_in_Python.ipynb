{
  "nbformat": 4,
  "nbformat_minor": 0,
  "metadata": {
    "colab": {
      "provenance": [],
      "authorship_tag": "ABX9TyPRIpuBXmEjINT60h+YGRlF",
      "include_colab_link": true
    },
    "kernelspec": {
      "name": "python3",
      "display_name": "Python 3"
    },
    "language_info": {
      "name": "python"
    }
  },
  "cells": [
    {
      "cell_type": "markdown",
      "metadata": {
        "id": "view-in-github",
        "colab_type": "text"
      },
      "source": [
        "<a href=\"https://colab.research.google.com/github/pavanikonatham4/python/blob/main/Python_Program_for_Prime_Number_in_Python.ipynb\" target=\"_parent\"><img src=\"https://colab.research.google.com/assets/colab-badge.svg\" alt=\"Open In Colab\"/></a>"
      ]
    },
    {
      "cell_type": "code",
      "execution_count": null,
      "metadata": {
        "id": "LJrYu6DUlMFC"
      },
      "outputs": [],
      "source": [
        "def prime(x, y):\n",
        "    prime_list = []\n",
        "    for i in range(x, y):\n",
        "        if i == 0 or i == 1:\n",
        "            continue\n",
        "        else:\n",
        "            for j in range(2, int(i/2)+1):\n",
        "                if i % j == 0:\n",
        "                    break\n",
        "            else:\n",
        "                prime_list.append(i)\n",
        "    return prime_list\n",
        "\n",
        "\n",
        "# Driver program\n",
        "starting_range = 2\n",
        "ending_range = 7\n",
        "lst = prime(starting_range, ending_range)\n",
        "if len(lst) == 0:\n",
        "    print(\"There are no prime numbers in this range\")\n",
        "else:\n",
        "    print(\"The prime numbers in this range are: \", lst)"
      ]
    }
  ]
}