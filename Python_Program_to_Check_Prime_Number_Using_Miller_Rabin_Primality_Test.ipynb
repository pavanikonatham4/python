{
  "nbformat": 4,
  "nbformat_minor": 0,
  "metadata": {
    "colab": {
      "provenance": [],
      "authorship_tag": "ABX9TyNDcsOy6lQ3vy8F01l+g+9M",
      "include_colab_link": true
    },
    "kernelspec": {
      "name": "python3",
      "display_name": "Python 3"
    },
    "language_info": {
      "name": "python"
    }
  },
  "cells": [
    {
      "cell_type": "markdown",
      "metadata": {
        "id": "view-in-github",
        "colab_type": "text"
      },
      "source": [
        "<a href=\"https://colab.research.google.com/github/pavanikonatham4/python/blob/main/Python_Program_to_Check_Prime_Number_Using_Miller_Rabin_Primality_Test.ipynb\" target=\"_parent\"><img src=\"https://colab.research.google.com/assets/colab-badge.svg\" alt=\"Open In Colab\"/></a>"
      ]
    },
    {
      "cell_type": "code",
      "execution_count": 1,
      "metadata": {
        "colab": {
          "base_uri": "https://localhost:8080/"
        },
        "id": "W9t3Ph-BA91R",
        "outputId": "924a0bb1-1af7-4465-cfcb-9521e63af59a"
      },
      "outputs": [
        {
          "output_type": "stream",
          "name": "stdout",
          "text": [
            "False\n",
            "True\n"
          ]
        }
      ],
      "source": [
        "import random\n",
        "\n",
        "def is_prime_miller_rabin(n, k=5):\n",
        "    if n <= 1:\n",
        "        return False\n",
        "    if n <= 3:\n",
        "        return True\n",
        "    if n % 2 == 0:\n",
        "        return False\n",
        "\n",
        "    def miller_test(d, n):\n",
        "        a = random.randint(2, n - 2)\n",
        "        x = pow(a, d, n)\n",
        "        if x == 1 or x == n - 1:\n",
        "            return True\n",
        "        while d != n - 1:\n",
        "            x = (x * x) % n\n",
        "            d *= 2\n",
        "            if x == 1:\n",
        "                return False\n",
        "            if x == n - 1:\n",
        "                return True\n",
        "        return False\n",
        "\n",
        "    d = n - 1\n",
        "    while d % 2 == 0:\n",
        "        d //= 2\n",
        "\n",
        "    for _ in range(k):\n",
        "        if not miller_test(d, n):\n",
        "            return False\n",
        "    return True\n",
        "\n",
        "print(is_prime_miller_rabin(30))\n",
        "print(is_prime_miller_rabin(3))"
      ]
    }
  ]
}