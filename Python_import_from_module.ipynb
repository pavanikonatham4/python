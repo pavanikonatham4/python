{
  "nbformat": 4,
  "nbformat_minor": 0,
  "metadata": {
    "colab": {
      "provenance": [],
      "authorship_tag": "ABX9TyN9OaeFIJ6cv/qivYrr00jo",
      "include_colab_link": true
    },
    "kernelspec": {
      "name": "python3",
      "display_name": "Python 3"
    },
    "language_info": {
      "name": "python"
    }
  },
  "cells": [
    {
      "cell_type": "markdown",
      "metadata": {
        "id": "view-in-github",
        "colab_type": "text"
      },
      "source": [
        "<a href=\"https://colab.research.google.com/github/pavanikonatham4/python/blob/main/Python_import_from_module.ipynb\" target=\"_parent\"><img src=\"https://colab.research.google.com/assets/colab-badge.svg\" alt=\"Open In Colab\"/></a>"
      ]
    },
    {
      "cell_type": "code",
      "execution_count": 1,
      "metadata": {
        "colab": {
          "base_uri": "https://localhost:8080/"
        },
        "id": "r2hxm04OWQp0",
        "outputId": "517f1fc7-6dee-43fc-884d-6753a1395c6d"
      },
      "outputs": [
        {
          "output_type": "stream",
          "name": "stdout",
          "text": [
            "4.0\n",
            "720\n"
          ]
        }
      ],
      "source": [
        "# importing sqrt() and factorial from the\n",
        "# module math\n",
        "from math import sqrt, factorial\n",
        "\n",
        "# if we simply do \"import math\", then\n",
        "# math.sqrt(16) and math.factorial()\n",
        "# are required.\n",
        "print(sqrt(16))\n",
        "print(factorial(6))"
      ]
    }
  ]
}