{
  "nbformat": 4,
  "nbformat_minor": 0,
  "metadata": {
    "colab": {
      "provenance": [],
      "authorship_tag": "ABX9TyOiYHHkPnT9IyIATOVYnDiw",
      "include_colab_link": true
    },
    "kernelspec": {
      "name": "python3",
      "display_name": "Python 3"
    },
    "language_info": {
      "name": "python"
    }
  },
  "cells": [
    {
      "cell_type": "markdown",
      "metadata": {
        "id": "view-in-github",
        "colab_type": "text"
      },
      "source": [
        "<a href=\"https://colab.research.google.com/github/pavanikonatham4/python/blob/main/Factorial_Function_in_Maths.ipynb\" target=\"_parent\"><img src=\"https://colab.research.google.com/assets/colab-badge.svg\" alt=\"Open In Colab\"/></a>"
      ]
    },
    {
      "cell_type": "code",
      "execution_count": 1,
      "metadata": {
        "colab": {
          "base_uri": "https://localhost:8080/"
        },
        "id": "joG3JkTq9vFy",
        "outputId": "0da5a09e-a436-4f85-aff2-7a054c2bf892"
      },
      "outputs": [
        {
          "output_type": "stream",
          "name": "stdout",
          "text": [
            "Factorial of 5 is 120\n"
          ]
        }
      ],
      "source": [
        "# Python 3 program to find\n",
        "# factorial of given number\n",
        "import math\n",
        "\n",
        "def factorial(n):\n",
        "    return(math.factorial(n))\n",
        "\n",
        "\n",
        "# Driver Code\n",
        "num = 5\n",
        "print(\"Factorial of\", num, \"is\",\n",
        "      factorial(num))\n",
        "\n",
        "# This code is contributed by Ashutosh Pandit"
      ]
    }
  ]
}