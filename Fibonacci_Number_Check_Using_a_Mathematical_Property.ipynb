{
  "nbformat": 4,
  "nbformat_minor": 0,
  "metadata": {
    "colab": {
      "provenance": [],
      "authorship_tag": "ABX9TyPhWNosxtdsNcHxbxfpmosd",
      "include_colab_link": true
    },
    "kernelspec": {
      "name": "python3",
      "display_name": "Python 3"
    },
    "language_info": {
      "name": "python"
    }
  },
  "cells": [
    {
      "cell_type": "markdown",
      "metadata": {
        "id": "view-in-github",
        "colab_type": "text"
      },
      "source": [
        "<a href=\"https://colab.research.google.com/github/pavanikonatham4/python/blob/main/Fibonacci_Number_Check_Using_a_Mathematical_Property.ipynb\" target=\"_parent\"><img src=\"https://colab.research.google.com/assets/colab-badge.svg\" alt=\"Open In Colab\"/></a>"
      ]
    },
    {
      "cell_type": "code",
      "execution_count": 1,
      "metadata": {
        "colab": {
          "base_uri": "https://localhost:8080/"
        },
        "id": "SzUYvxQJilhI",
        "outputId": "400d1e27-7948-4f15-e6db-7ea9a2ac95f3"
      },
      "outputs": [
        {
          "output_type": "stream",
          "name": "stdout",
          "text": [
            "1 is a Fibonacci Number\n",
            "2 is a Fibonacci Number\n",
            "3 is a Fibonacci Number\n",
            "4 is not a Fibonacci Number\n",
            "5 is a Fibonacci Number\n",
            "6 is not a Fibonacci Number\n"
          ]
        }
      ],
      "source": [
        "import math\n",
        "\n",
        "def is_perfect_sq(x):\n",
        "    s = int(math.sqrt(x))\n",
        "    return s * s == x\n",
        "\n",
        "def is_fibonacci(n):\n",
        "    return is_perfect_sq(5 * n * n + 4) or is_perfect_sq(5 * n * n - 4)\n",
        "\n",
        "for i in range(1, 7):\n",
        "    if is_fibonacci(i):\n",
        "        print(f\"{i} is a Fibonacci Number\")\n",
        "    else:\n",
        "        print(f\"{i} is not a Fibonacci Number\")"
      ]
    }
  ]
}