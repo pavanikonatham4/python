{
  "nbformat": 4,
  "nbformat_minor": 0,
  "metadata": {
    "colab": {
      "provenance": [],
      "authorship_tag": "ABX9TyODP1TDAbENnlJzJZn1qSc2",
      "include_colab_link": true
    },
    "kernelspec": {
      "name": "python3",
      "display_name": "Python 3"
    },
    "language_info": {
      "name": "python"
    }
  },
  "cells": [
    {
      "cell_type": "markdown",
      "metadata": {
        "id": "view-in-github",
        "colab_type": "text"
      },
      "source": [
        "<a href=\"https://colab.research.google.com/github/pavanikonatham4/python/blob/main/Fibonacci_number.ipynb\" target=\"_parent\"><img src=\"https://colab.research.google.com/assets/colab-badge.svg\" alt=\"Open In Colab\"/></a>"
      ]
    },
    {
      "cell_type": "code",
      "execution_count": 1,
      "metadata": {
        "colab": {
          "base_uri": "https://localhost:8080/"
        },
        "id": "9_CYEYIaCwMx",
        "outputId": "7e750832-d182-426b-ec48-ae1de3a27195"
      },
      "outputs": [
        {
          "output_type": "stream",
          "name": "stdout",
          "text": [
            "144 is 12th fibonacci number\n"
          ]
        }
      ],
      "source": [
        "# To find the n-th Fibonacci Number using formula\n",
        "from math import sqrt\n",
        "# import square-root method from math library\n",
        "def nthFib(n):\n",
        "    res = (((1+sqrt(5))**n)-((1-sqrt(5)))**n)/(2**n*sqrt(5))\n",
        "    # compute the n-th fibonacci number\n",
        "    print(int(res),'is',str(n)+'th fibonacci number')\n",
        "    # format and print the number\n",
        "\n",
        "# driver code\n",
        "nthFib(12)"
      ]
    }
  ]
}