{
  "nbformat": 4,
  "nbformat_minor": 0,
  "metadata": {
    "colab": {
      "provenance": [],
      "authorship_tag": "ABX9TyOzj1qGub4FowA0neo4pRE5",
      "include_colab_link": true
    },
    "kernelspec": {
      "name": "python3",
      "display_name": "Python 3"
    },
    "language_info": {
      "name": "python"
    }
  },
  "cells": [
    {
      "cell_type": "markdown",
      "metadata": {
        "id": "view-in-github",
        "colab_type": "text"
      },
      "source": [
        "<a href=\"https://colab.research.google.com/github/pavanikonatham4/python/blob/main/Python_Program_to_Check_Prime_Number_Using__sympy_isprime()_method.ipynb\" target=\"_parent\"><img src=\"https://colab.research.google.com/assets/colab-badge.svg\" alt=\"Open In Colab\"/></a>"
      ]
    },
    {
      "cell_type": "code",
      "execution_count": 1,
      "metadata": {
        "colab": {
          "base_uri": "https://localhost:8080/"
        },
        "id": "wYwuJ-xVVJPo",
        "outputId": "9edc419b-e5c4-4e3e-8eac-8feefd57f792"
      },
      "outputs": [
        {
          "output_type": "stream",
          "name": "stdout",
          "text": [
            "False\n",
            "True\n",
            "True\n"
          ]
        }
      ],
      "source": [
        "# importing sympy module\n",
        "from sympy import *\n",
        "\n",
        "# calling isprime function on different numbers\n",
        "geek1 = isprime(30)\n",
        "geek2 = isprime(13)\n",
        "geek3 = isprime(2)\n",
        "\n",
        "print(geek1) # check for 30 is prime or not\n",
        "print(geek2) # check for 13 is prime or not\n",
        "print(geek3) # check for 2 is prime or not"
      ]
    }
  ]
}