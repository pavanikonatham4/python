{
  "nbformat": 4,
  "nbformat_minor": 0,
  "metadata": {
    "colab": {
      "provenance": [],
      "authorship_tag": "ABX9TyOtX0Ky2coHl6eWuqxaNfei",
      "include_colab_link": true
    },
    "kernelspec": {
      "name": "python3",
      "display_name": "Python 3"
    },
    "language_info": {
      "name": "python"
    }
  },
  "cells": [
    {
      "cell_type": "markdown",
      "metadata": {
        "id": "view-in-github",
        "colab_type": "text"
      },
      "source": [
        "<a href=\"https://colab.research.google.com/github/pavanikonatham4/python/blob/main/Add_Two_Numbers_Using_operator_add()_Method_.ipynb\" target=\"_parent\"><img src=\"https://colab.research.google.com/assets/colab-badge.svg\" alt=\"Open In Colab\"/></a>"
      ]
    },
    {
      "cell_type": "code",
      "execution_count": 1,
      "metadata": {
        "colab": {
          "base_uri": "https://localhost:8080/"
        },
        "id": "McxNj_hTTH0y",
        "outputId": "c52b5048-b5b2-4dc2-f3af-7ddb26c74ff2"
      },
      "outputs": [
        {
          "output_type": "stream",
          "name": "stdout",
          "text": [
            "Sum of 15 and 12 is 27\n"
          ]
        }
      ],
      "source": [
        "# Python3 program to add two numbers\n",
        "\n",
        "num1 = 15\n",
        "num2 = 12\n",
        "\n",
        "# Adding two nos\n",
        "import operator\n",
        "su = operator.add(num1,num2)\n",
        "\n",
        "# printing values\n",
        "print(\"Sum of {0} and {1} is {2}\" .format(num1,\n",
        "                                       num2, su))"
      ]
    },
    {
      "cell_type": "code",
      "source": [
        "--"
      ],
      "metadata": {
        "id": "FTIo-fPdTUMn"
      },
      "execution_count": null,
      "outputs": []
    }
  ]
}