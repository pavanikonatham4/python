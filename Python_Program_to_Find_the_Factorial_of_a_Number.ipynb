{
  "nbformat": 4,
  "nbformat_minor": 0,
  "metadata": {
    "colab": {
      "provenance": [],
      "authorship_tag": "ABX9TyNjinaLq2E5iNBA6bA+BQWi",
      "include_colab_link": true
    },
    "kernelspec": {
      "name": "python3",
      "display_name": "Python 3"
    },
    "language_info": {
      "name": "python"
    }
  },
  "cells": [
    {
      "cell_type": "markdown",
      "metadata": {
        "id": "view-in-github",
        "colab_type": "text"
      },
      "source": [
        "<a href=\"https://colab.research.google.com/github/pavanikonatham4/python/blob/main/Python_Program_to_Find_the_Factorial_of_a_Number.ipynb\" target=\"_parent\"><img src=\"https://colab.research.google.com/assets/colab-badge.svg\" alt=\"Open In Colab\"/></a>"
      ]
    },
    {
      "cell_type": "code",
      "execution_count": 1,
      "metadata": {
        "colab": {
          "base_uri": "https://localhost:8080/"
        },
        "id": "jCvWHEWCUZw_",
        "outputId": "842407ff-0a60-4c1f-bc0e-c13d65b3bf73"
      },
      "outputs": [
        {
          "output_type": "stream",
          "name": "stdout",
          "text": [
            "The factorial of 6 is 720\n"
          ]
        }
      ],
      "source": [
        "# Input: An integer number\n",
        "num = 6\n",
        "\n",
        "# Initialize the factorial variable to 1\n",
        "factorial = 1\n",
        "\n",
        "# Calculate the factorial using a for loop\n",
        "for i in range(1, num + 1):\n",
        "    factorial *= i\n",
        "\n",
        "# Output: The factorial of the number\n",
        "print(f\"The factorial of {num} is {factorial}\")"
      ]
    }
  ]
}