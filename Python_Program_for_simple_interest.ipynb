{
  "nbformat": 4,
  "nbformat_minor": 0,
  "metadata": {
    "colab": {
      "provenance": [],
      "authorship_tag": "ABX9TyMG/GlHVyS6RYp82fs66Fsv",
      "include_colab_link": true
    },
    "kernelspec": {
      "name": "python3",
      "display_name": "Python 3"
    },
    "language_info": {
      "name": "python"
    }
  },
  "cells": [
    {
      "cell_type": "markdown",
      "metadata": {
        "id": "view-in-github",
        "colab_type": "text"
      },
      "source": [
        "<a href=\"https://colab.research.google.com/github/pavanikonatham4/python/blob/main/Python_Program_for_simple_interest.ipynb\" target=\"_parent\"><img src=\"https://colab.research.google.com/assets/colab-badge.svg\" alt=\"Open In Colab\"/></a>"
      ]
    },
    {
      "cell_type": "code",
      "execution_count": 1,
      "metadata": {
        "colab": {
          "base_uri": "https://localhost:8080/"
        },
        "id": "1pZ_Jo34bGVZ",
        "outputId": "ef0cfadc-eda6-48ff-b9e2-828db142f4c5"
      },
      "outputs": [
        {
          "output_type": "stream",
          "name": "stdout",
          "text": [
            "The principal is 8\n",
            "The time period is 6\n",
            "The rate of interest is 8\n",
            "The Simple Interest is 3.84\n"
          ]
        },
        {
          "output_type": "execute_result",
          "data": {
            "text/plain": [
              "3.84"
            ]
          },
          "metadata": {},
          "execution_count": 1
        }
      ],
      "source": [
        "# Python3 program to find simple interest\n",
        "# for given principal amount, time and\n",
        "# rate of interest.\n",
        "\n",
        "\n",
        "def simple_interest(p,t,r):\n",
        "    print('The principal is', p)\n",
        "    print('The time period is', t)\n",
        "    print('The rate of interest is',r)\n",
        "\n",
        "    si = (p * t * r)/100\n",
        "\n",
        "    print('The Simple Interest is', si)\n",
        "    return si\n",
        "\n",
        "# Driver code\n",
        "simple_interest(8, 6, 8)"
      ]
    }
  ]
}