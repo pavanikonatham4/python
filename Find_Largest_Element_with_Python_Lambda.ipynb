{
  "nbformat": 4,
  "nbformat_minor": 0,
  "metadata": {
    "colab": {
      "provenance": [],
      "authorship_tag": "ABX9TyOSqyfYzDCMzmLrng5DnAuw",
      "include_colab_link": true
    },
    "kernelspec": {
      "name": "python3",
      "display_name": "Python 3"
    },
    "language_info": {
      "name": "python"
    }
  },
  "cells": [
    {
      "cell_type": "markdown",
      "metadata": {
        "id": "view-in-github",
        "colab_type": "text"
      },
      "source": [
        "<a href=\"https://colab.research.google.com/github/pavanikonatham4/python/blob/main/Find_Largest_Element_with_Python_Lambda.ipynb\" target=\"_parent\"><img src=\"https://colab.research.google.com/assets/colab-badge.svg\" alt=\"Open In Colab\"/></a>"
      ]
    },
    {
      "cell_type": "code",
      "execution_count": 1,
      "metadata": {
        "colab": {
          "base_uri": "https://localhost:8080/"
        },
        "id": "KsUX0upXpkLX",
        "outputId": "f41c0575-32df-45c1-9121-2c4d051fe1b1"
      },
      "outputs": [
        {
          "output_type": "stream",
          "name": "stdout",
          "text": [
            "Largest element in the array: 20\n"
          ]
        }
      ],
      "source": [
        "array = [10, 5, 20, 8, 15]\n",
        "\n",
        "largest_element = max(array, key=lambda x: x)\n",
        "print(\"Largest element in the array:\", largest_element)\n"
      ]
    }
  ]
}