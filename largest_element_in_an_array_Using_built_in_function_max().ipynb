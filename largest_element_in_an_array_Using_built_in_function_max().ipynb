{
  "nbformat": 4,
  "nbformat_minor": 0,
  "metadata": {
    "colab": {
      "provenance": [],
      "authorship_tag": "ABX9TyMLlHTSzE1PXHg6zOLW31nM",
      "include_colab_link": true
    },
    "kernelspec": {
      "name": "python3",
      "display_name": "Python 3"
    },
    "language_info": {
      "name": "python"
    }
  },
  "cells": [
    {
      "cell_type": "markdown",
      "metadata": {
        "id": "view-in-github",
        "colab_type": "text"
      },
      "source": [
        "<a href=\"https://colab.research.google.com/github/pavanikonatham4/python/blob/main/largest_element_in_an_array_Using_built_in_function_max().ipynb\" target=\"_parent\"><img src=\"https://colab.research.google.com/assets/colab-badge.svg\" alt=\"Open In Colab\"/></a>"
      ]
    },
    {
      "cell_type": "code",
      "execution_count": 1,
      "metadata": {
        "colab": {
          "base_uri": "https://localhost:8080/"
        },
        "id": "Daw6ahTpYK3L",
        "outputId": "a385607d-020b-4591-af61-4fffbaac9a5f"
      },
      "outputs": [
        {
          "output_type": "stream",
          "name": "stdout",
          "text": [
            "Largest in given array  9808\n"
          ]
        }
      ],
      "source": [
        "# Python3 program to find maximum\n",
        "# in arr[] of size n\n",
        "def largest(arr, n):\n",
        "\tans = max(arr)\n",
        "\treturn ans;\n",
        "\n",
        "# Driver code\n",
        "if __name__ == '__main__':\n",
        "\tarr = [10, 324, 45, 90, 9808]\n",
        "\tn = len(arr)\n",
        "\tprint (\"Largest in given array \", largest(arr, n))\n"
      ]
    }
  ]
}