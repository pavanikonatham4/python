{
  "nbformat": 4,
  "nbformat_minor": 0,
  "metadata": {
    "colab": {
      "provenance": [],
      "authorship_tag": "ABX9TyOd+F/Lzx1YoAcdVEHoAYxq",
      "include_colab_link": true
    },
    "kernelspec": {
      "name": "python3",
      "display_name": "Python 3"
    },
    "language_info": {
      "name": "python"
    }
  },
  "cells": [
    {
      "cell_type": "markdown",
      "metadata": {
        "id": "view-in-github",
        "colab_type": "text"
      },
      "source": [
        "<a href=\"https://colab.research.google.com/github/pavanikonatham4/python/blob/main/Iterative_approach_using_a_list_to_store_Fibonacci_series.ipynb\" target=\"_parent\"><img src=\"https://colab.research.google.com/assets/colab-badge.svg\" alt=\"Open In Colab\"/></a>"
      ]
    },
    {
      "cell_type": "code",
      "execution_count": 1,
      "metadata": {
        "colab": {
          "base_uri": "https://localhost:8080/"
        },
        "id": "H8w2_kdQ7LMP",
        "outputId": "01bcf558-61df-4e08-c1ae-b5b18e89421d"
      },
      "outputs": [
        {
          "output_type": "stream",
          "name": "stdout",
          "text": [
            "9\n"
          ]
        }
      ],
      "source": [
        "def nth_fib_multiple(n, k):\n",
        "    fibonacci = [0, 1]\n",
        "    counter = 0\n",
        "    for i in range(2, 10000):\n",
        "        current = fibonacci[i-1] + fibonacci[i-2]\n",
        "        if current % k == 0:\n",
        "            counter += 1\n",
        "            if counter == n:\n",
        "                return i\n",
        "        fibonacci.append(current)\n",
        "\n",
        "# Example usage\n",
        "print(nth_fib_multiple(3, 2)) # Output: 9"
      ]
    }
  ]
}