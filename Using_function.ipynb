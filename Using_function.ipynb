{
  "nbformat": 4,
  "nbformat_minor": 0,
  "metadata": {
    "colab": {
      "provenance": [],
      "authorship_tag": "ABX9TyORcaiFRdwWjNqQnAdznkSb",
      "include_colab_link": true
    },
    "kernelspec": {
      "name": "python3",
      "display_name": "Python 3"
    },
    "language_info": {
      "name": "python"
    }
  },
  "cells": [
    {
      "cell_type": "markdown",
      "metadata": {
        "id": "view-in-github",
        "colab_type": "text"
      },
      "source": [
        "<a href=\"https://colab.research.google.com/github/pavanikonatham4/python/blob/main/Using_function.ipynb\" target=\"_parent\"><img src=\"https://colab.research.google.com/assets/colab-badge.svg\" alt=\"Open In Colab\"/></a>"
      ]
    },
    {
      "cell_type": "code",
      "execution_count": 1,
      "metadata": {
        "colab": {
          "base_uri": "https://localhost:8080/"
        },
        "id": "PNDfwcvU0pUB",
        "outputId": "6e1597aa-597d-4f0e-cb34-eea813810ce3"
      },
      "outputs": [
        {
          "output_type": "stream",
          "name": "stdout",
          "text": [
            "3.84\n"
          ]
        }
      ],
      "source": [
        "def fun(p, t, r):\n",
        "    return (p * t * r) / 100\n",
        "\n",
        "p, t, r = 8, 6, 8\n",
        "\n",
        "res = fun(p, t, r)\n",
        "print(res)"
      ]
    }
  ]
}