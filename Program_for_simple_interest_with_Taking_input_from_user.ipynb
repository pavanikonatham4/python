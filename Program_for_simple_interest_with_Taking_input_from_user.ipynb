{
  "nbformat": 4,
  "nbformat_minor": 0,
  "metadata": {
    "colab": {
      "provenance": [],
      "authorship_tag": "ABX9TyO35PS2X5Er+FsPCfmCCwUR",
      "include_colab_link": true
    },
    "kernelspec": {
      "name": "python3",
      "display_name": "Python 3"
    },
    "language_info": {
      "name": "python"
    }
  },
  "cells": [
    {
      "cell_type": "markdown",
      "metadata": {
        "id": "view-in-github",
        "colab_type": "text"
      },
      "source": [
        "<a href=\"https://colab.research.google.com/github/pavanikonatham4/python/blob/main/Program_for_simple_interest_with_Taking_input_from_user.ipynb\" target=\"_parent\"><img src=\"https://colab.research.google.com/assets/colab-badge.svg\" alt=\"Open In Colab\"/></a>"
      ]
    },
    {
      "cell_type": "code",
      "source": [
        "# Python3 program to find simple interest\n",
        "#  principal amount, time and\n",
        "# rate of interest taken from user.\n",
        "\n",
        "\n",
        "def simple_interest(p,t,r):\n",
        "    print('The principal is', p)\n",
        "    print('The time period is', t)\n",
        "    print('The rate of interest is',r)\n",
        "\n",
        "    si = (p * t * r)/100\n",
        "\n",
        "    print('The Simple Interest is', si)\n",
        "\n",
        "\n",
        "# Driver code\n",
        "P = int(input(\"Enter the principal amount :\"))\n",
        "T = int(input(\"Enter the time period :\"))\n",
        "R = int(input(\"Enter the rate of interest :\"))\n",
        "simple_interest(P,T,R)"
      ],
      "metadata": {
        "colab": {
          "base_uri": "https://localhost:8080/"
        },
        "id": "Lin5PJIE1T7D",
        "outputId": "f103e477-ac11-45db-97dd-0a3a6c4f7df4"
      },
      "execution_count": 2,
      "outputs": [
        {
          "output_type": "stream",
          "name": "stdout",
          "text": [
            "Enter the principal amount :2000\n",
            "Enter the time period :7\n",
            "Enter the rate of interest :2\n",
            "The principal is 2000\n",
            "The time period is 7\n",
            "The rate of interest is 2\n",
            "The Simple Interest is 280.0\n"
          ]
        }
      ]
    }
  ]
}