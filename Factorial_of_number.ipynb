{
  "nbformat": 4,
  "nbformat_minor": 0,
  "metadata": {
    "colab": {
      "provenance": [],
      "authorship_tag": "ABX9TyNPdOW7CrMswB8l1UbSJmQl",
      "include_colab_link": true
    },
    "kernelspec": {
      "name": "python3",
      "display_name": "Python 3"
    },
    "language_info": {
      "name": "python"
    }
  },
  "cells": [
    {
      "cell_type": "markdown",
      "metadata": {
        "id": "view-in-github",
        "colab_type": "text"
      },
      "source": [
        "<a href=\"https://colab.research.google.com/github/pavanikonatham4/python/blob/main/Factorial_of_number.ipynb\" target=\"_parent\"><img src=\"https://colab.research.google.com/assets/colab-badge.svg\" alt=\"Open In Colab\"/></a>"
      ]
    },
    {
      "cell_type": "code",
      "execution_count": 1,
      "metadata": {
        "id": "nReVLrQq7rwV",
        "outputId": "7a6ce8a7-3963-4420-b8f0-08228cdfefb2",
        "colab": {
          "base_uri": "https://localhost:8080/"
        }
      },
      "outputs": [
        {
          "output_type": "stream",
          "name": "stdout",
          "text": [
            "720\n"
          ]
        }
      ],
      "source": [
        "n = 6\n",
        "\n",
        "# Initialize the factorial variable to 1\n",
        "fact = 1\n",
        "\n",
        "# Calculate the factorial using a for loop\n",
        "for i in range(1, n + 1):\n",
        "    fact *= i\n",
        "\n",
        "print(fact)"
      ]
    }
  ]
}