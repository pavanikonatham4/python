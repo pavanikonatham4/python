{
  "nbformat": 4,
  "nbformat_minor": 0,
  "metadata": {
    "colab": {
      "provenance": [],
      "authorship_tag": "ABX9TyPd8LdBs1+LITJY1DXP0MKK",
      "include_colab_link": true
    },
    "kernelspec": {
      "name": "python3",
      "display_name": "Python 3"
    },
    "language_info": {
      "name": "python"
    }
  },
  "cells": [
    {
      "cell_type": "markdown",
      "metadata": {
        "id": "view-in-github",
        "colab_type": "text"
      },
      "source": [
        "<a href=\"https://colab.research.google.com/github/pavanikonatham4/python/blob/main/add_two_numbers_in_python_using_function.ipynb\" target=\"_parent\"><img src=\"https://colab.research.google.com/assets/colab-badge.svg\" alt=\"Open In Colab\"/></a>"
      ]
    },
    {
      "cell_type": "code",
      "execution_count": null,
      "metadata": {
        "colab": {
          "base_uri": "https://localhost:8080/"
        },
        "id": "o-KaGPcjdv_i",
        "outputId": "31bb8ec8-f637-47ab-b914-f0e16b9928d9"
      },
      "outputs": [
        {
          "output_type": "stream",
          "name": "stdout",
          "text": [
            "Sum of 10 and 5 is 15;\n"
          ]
        }
      ],
      "source": [
        "#To define a function that take two integers\n",
        "# and return the sum of those two numbers\n",
        "def add(a,b):\n",
        "  return a+b\n",
        "\n",
        "#initializing the variables\n",
        "num1 = 10\n",
        "num2 = 5\n",
        "\n",
        "#function calling and store the result into sum_of_twonumbers\n",
        "sum_of_twonumbers = add(num1,num2)\n",
        "\n",
        "#To print the result\n",
        "print(\"Sum of {0} and {1} is {2};\" .format(num1,\n",
        "                           num2, sum_of_twonumbers))"
      ]
    }
  ]
}