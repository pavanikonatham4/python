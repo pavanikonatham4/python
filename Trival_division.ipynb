{
  "nbformat": 4,
  "nbformat_minor": 0,
  "metadata": {
    "colab": {
      "provenance": [],
      "authorship_tag": "ABX9TyMxiqm0VzJT1VCByWxlpokY",
      "include_colab_link": true
    },
    "kernelspec": {
      "name": "python3",
      "display_name": "Python 3"
    },
    "language_info": {
      "name": "python"
    }
  },
  "cells": [
    {
      "cell_type": "markdown",
      "metadata": {
        "id": "view-in-github",
        "colab_type": "text"
      },
      "source": [
        "<a href=\"https://colab.research.google.com/github/pavanikonatham4/python/blob/main/Trival_division.ipynb\" target=\"_parent\"><img src=\"https://colab.research.google.com/assets/colab-badge.svg\" alt=\"Open In Colab\"/></a>"
      ]
    },
    {
      "cell_type": "code",
      "execution_count": 1,
      "metadata": {
        "colab": {
          "base_uri": "https://localhost:8080/"
        },
        "id": "vL339Xn1Wv7f",
        "outputId": "2994d22d-7673-4f33-bb5b-a567b917a436"
      },
      "outputs": [
        {
          "output_type": "stream",
          "name": "stdout",
          "text": [
            "[2, 3, 5, 7]\n"
          ]
        }
      ],
      "source": [
        "x, y = 2, 7  # define range [x, y]\n",
        "\n",
        "res = []  # list to store primes\n",
        "\n",
        "for n in range(x, y + 1):\n",
        "    if n <= 1:\n",
        "        continue  # skip non-primes <= 1\n",
        "\n",
        "    is_prime = True  # assume n is prime\n",
        "    for i in range(2, int(n ** 0.5) + 1):\n",
        "        if n % i == 0:\n",
        "            is_prime = False  # n is not prime\n",
        "            break\n",
        "\n",
        "    if is_prime:\n",
        "        res.append(n)  # add prime number\n",
        "\n",
        "print(res if res else \"No\")"
      ]
    }
  ]
}