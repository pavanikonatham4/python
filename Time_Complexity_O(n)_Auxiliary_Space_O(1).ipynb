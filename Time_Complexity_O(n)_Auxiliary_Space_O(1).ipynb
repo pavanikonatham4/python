{
  "nbformat": 4,
  "nbformat_minor": 0,
  "metadata": {
    "colab": {
      "provenance": [],
      "authorship_tag": "ABX9TyO34SuSYNSNpQ0jVgZW4j9/",
      "include_colab_link": true
    },
    "kernelspec": {
      "name": "python3",
      "display_name": "Python 3"
    },
    "language_info": {
      "name": "python"
    }
  },
  "cells": [
    {
      "cell_type": "markdown",
      "metadata": {
        "id": "view-in-github",
        "colab_type": "text"
      },
      "source": [
        "<a href=\"https://colab.research.google.com/github/pavanikonatham4/python/blob/main/Time_Complexity_O(n)_Auxiliary_Space_O(1).ipynb\" target=\"_parent\"><img src=\"https://colab.research.google.com/assets/colab-badge.svg\" alt=\"Open In Colab\"/></a>"
      ]
    },
    {
      "cell_type": "code",
      "execution_count": 1,
      "metadata": {
        "colab": {
          "base_uri": "https://localhost:8080/"
        },
        "id": "1jBG7NNyQaSW",
        "outputId": "e93bf2ff-0773-4f2c-cf7c-89ddd3cd914a"
      },
      "outputs": [
        {
          "output_type": "stream",
          "name": "stdout",
          "text": [
            "5\n"
          ]
        }
      ],
      "source": [
        "def fib(n):\n",
        "    F = [[1, 1],\n",
        "         [1, 0]]\n",
        "    if (n == 0):\n",
        "        return 0\n",
        "    power(F, n - 1)\n",
        "\n",
        "    return F[0][0]\n",
        "\n",
        "\n",
        "def multiply(F, M):\n",
        "    x = (F[0][0] * M[0][0] +\n",
        "         F[0][1] * M[1][0])\n",
        "    y = (F[0][0] * M[0][1] +\n",
        "         F[0][1] * M[1][1])\n",
        "    z = (F[1][0] * M[0][0] +\n",
        "         F[1][1] * M[1][0])\n",
        "    w = (F[1][0] * M[0][1] +\n",
        "         F[1][1] * M[1][1])\n",
        "\n",
        "    F[0][0] = x\n",
        "    F[0][1] = y\n",
        "    F[1][0] = z\n",
        "    F[1][1] = w\n",
        "\n",
        "# Optimized version of\n",
        "# power() in method 6\n",
        "\n",
        "\n",
        "def power(F, n):\n",
        "    if(n == 0 or n == 1):\n",
        "        return\n",
        "    M = [[1, 1],\n",
        "         [1, 0]]\n",
        "\n",
        "    power(F, n // 2)\n",
        "    multiply(F, F)\n",
        "\n",
        "    if (n % 2 != 0):\n",
        "        multiply(F, M)\n",
        "\n",
        "\n",
        "# Driver Code\n",
        "if __name__ == \"__main__\":\n",
        "    n = 5\n",
        "    print(fib(n))"
      ]
    }
  ]
}