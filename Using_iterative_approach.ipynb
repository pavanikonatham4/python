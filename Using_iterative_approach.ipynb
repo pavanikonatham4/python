{
  "nbformat": 4,
  "nbformat_minor": 0,
  "metadata": {
    "colab": {
      "provenance": [],
      "authorship_tag": "ABX9TyNrJJ+nh7k6NDdwDFu8gMHT",
      "include_colab_link": true
    },
    "kernelspec": {
      "name": "python3",
      "display_name": "Python 3"
    },
    "language_info": {
      "name": "python"
    }
  },
  "cells": [
    {
      "cell_type": "markdown",
      "metadata": {
        "id": "view-in-github",
        "colab_type": "text"
      },
      "source": [
        "<a href=\"https://colab.research.google.com/github/pavanikonatham4/python/blob/main/Using_iterative_approach.ipynb\" target=\"_parent\"><img src=\"https://colab.research.google.com/assets/colab-badge.svg\" alt=\"Open In Colab\"/></a>"
      ]
    },
    {
      "cell_type": "code",
      "execution_count": 1,
      "metadata": {
        "colab": {
          "base_uri": "https://localhost:8080/"
        },
        "id": "zhn9HMdTQ-U-",
        "outputId": "9c675eb3-bd1d-44a5-b50f-7556a1b955b8"
      },
      "outputs": [
        {
          "output_type": "stream",
          "name": "stdout",
          "text": [
            "987\n"
          ]
        }
      ],
      "source": [
        "n, m = 4, 3\n",
        "a, b, count = 0, 1, 0\n",
        "\n",
        "while True:\n",
        "    a, b = b, a + b  # Compute next Fibonacci number\n",
        "\n",
        "    if b % m == 0:  # Check if divisible by m\n",
        "        count += 1\n",
        "\n",
        "        if count == n:  # If nth multiple is found, print it\n",
        "            print(b)\n",
        "            break"
      ]
    }
  ]
}