{
  "nbformat": 4,
  "nbformat_minor": 0,
  "metadata": {
    "colab": {
      "provenance": [],
      "authorship_tag": "ABX9TyPgmq0iRgCWxXGBviJ4v0YS",
      "include_colab_link": true
    },
    "kernelspec": {
      "name": "python3",
      "display_name": "Python 3"
    },
    "language_info": {
      "name": "python"
    }
  },
  "cells": [
    {
      "cell_type": "markdown",
      "metadata": {
        "id": "view-in-github",
        "colab_type": "text"
      },
      "source": [
        "<a href=\"https://colab.research.google.com/github/pavanikonatham4/python/blob/main/python_program_adding_two_nmbers.ipynb\" target=\"_parent\"><img src=\"https://colab.research.google.com/assets/colab-badge.svg\" alt=\"Open In Colab\"/></a>"
      ]
    },
    {
      "cell_type": "code",
      "execution_count": 1,
      "metadata": {
        "colab": {
          "base_uri": "https://localhost:8080/"
        },
        "id": "YSq8UVbMhqKR",
        "outputId": "969c9570-74c0-47da-b5f3-1b49a63ea0d8"
      },
      "outputs": [
        {
          "output_type": "stream",
          "name": "stdout",
          "text": [
            "Sum of 15 and 12 is 27\n"
          ]
        }
      ],
      "source": [
        "# Python3 program to add two numbers\n",
        "num1 = 15\n",
        "num2 = 12\n",
        "\n",
        "# Adding two nos\n",
        "sum = num1 + num2\n",
        "\n",
        "# printing values\n",
        "print(\"Sum of\", num1, \"and\", num2 , \"is\", sum)\n"
      ]
    }
  ]
}