{
  "nbformat": 4,
  "nbformat_minor": 0,
  "metadata": {
    "colab": {
      "provenance": [],
      "authorship_tag": "ABX9TyM0GKB0q+3uwzrEGOQogGyh",
      "include_colab_link": true
    },
    "kernelspec": {
      "name": "python3",
      "display_name": "Python 3"
    },
    "language_info": {
      "name": "python"
    }
  },
  "cells": [
    {
      "cell_type": "markdown",
      "metadata": {
        "id": "view-in-github",
        "colab_type": "text"
      },
      "source": [
        "<a href=\"https://colab.research.google.com/github/pavanikonatham4/python/blob/main/Python_Program_for_Reversal_Algorithm_Using_collections_deque.ipynb\" target=\"_parent\"><img src=\"https://colab.research.google.com/assets/colab-badge.svg\" alt=\"Open In Colab\"/></a>"
      ]
    },
    {
      "cell_type": "code",
      "execution_count": 1,
      "metadata": {
        "colab": {
          "base_uri": "https://localhost:8080/"
        },
        "id": "NlKEipopypS4",
        "outputId": "e598756c-94b4-4720-d2e5-5cb09c004337"
      },
      "outputs": [
        {
          "output_type": "stream",
          "name": "stdout",
          "text": [
            "Rotated array: [3, 4, 5, 6, 7, 1, 2]\n"
          ]
        }
      ],
      "source": [
        "from collections import deque\n",
        "\n",
        "def rotate_array_deque(arr, d):\n",
        "    n = len(arr)\n",
        "    rotated_array = deque(arr)\n",
        "    rotated_array.rotate(-d)\n",
        "    return list(rotated_array)\n",
        "\n",
        "# Example\n",
        "arr = [1, 2, 3, 4, 5, 6, 7]\n",
        "d = 2\n",
        "\n",
        "rotated_array = rotate_array_deque(arr, d)\n",
        "print(\"Rotated array:\", rotated_array)\n"
      ]
    }
  ]
}