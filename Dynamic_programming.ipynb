{
  "nbformat": 4,
  "nbformat_minor": 0,
  "metadata": {
    "colab": {
      "provenance": [],
      "authorship_tag": "ABX9TyMOPMwddgfXPdankc3NDobT",
      "include_colab_link": true
    },
    "kernelspec": {
      "name": "python3",
      "display_name": "Python 3"
    },
    "language_info": {
      "name": "python"
    }
  },
  "cells": [
    {
      "cell_type": "markdown",
      "metadata": {
        "id": "view-in-github",
        "colab_type": "text"
      },
      "source": [
        "<a href=\"https://colab.research.google.com/github/pavanikonatham4/python/blob/main/Dynamic_programming.ipynb\" target=\"_parent\"><img src=\"https://colab.research.google.com/assets/colab-badge.svg\" alt=\"Open In Colab\"/></a>"
      ]
    },
    {
      "cell_type": "code",
      "execution_count": 1,
      "metadata": {
        "colab": {
          "base_uri": "https://localhost:8080/"
        },
        "id": "XWJtTjaLDgs3",
        "outputId": "068a430d-65eb-4e3a-9af4-6f95a530f829"
      },
      "outputs": [
        {
          "output_type": "stream",
          "name": "stdout",
          "text": [
            "987\n"
          ]
        }
      ],
      "source": [
        "def fun(n, m):\n",
        "    fib = [0, 1]\n",
        "    count = 0  # Track multiples of m\n",
        "\n",
        "    while True:\n",
        "        fib.append(fib[-1] + fib[-2])  # Generate next Fibonacci\n",
        "        if fib[-1] % m == 0:\n",
        "            count += 1\n",
        "            if count == n:\n",
        "                return fib[-1]\n",
        "\n",
        "n, m = 4, 3  # 4th Fibonacci multiple of 3\n",
        "print(fun(n,m))"
      ]
    }
  ]
}