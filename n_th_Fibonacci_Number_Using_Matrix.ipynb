{
  "nbformat": 4,
  "nbformat_minor": 0,
  "metadata": {
    "colab": {
      "provenance": [],
      "authorship_tag": "ABX9TyP/8GFMSr543ja2XPQDiqAu",
      "include_colab_link": true
    },
    "kernelspec": {
      "name": "python3",
      "display_name": "Python 3"
    },
    "language_info": {
      "name": "python"
    }
  },
  "cells": [
    {
      "cell_type": "markdown",
      "metadata": {
        "id": "view-in-github",
        "colab_type": "text"
      },
      "source": [
        "<a href=\"https://colab.research.google.com/github/pavanikonatham4/python/blob/main/n_th_Fibonacci_Number_Using_Matrix.ipynb\" target=\"_parent\"><img src=\"https://colab.research.google.com/assets/colab-badge.svg\" alt=\"Open In Colab\"/></a>"
      ]
    },
    {
      "cell_type": "code",
      "execution_count": 1,
      "metadata": {
        "colab": {
          "base_uri": "https://localhost:8080/"
        },
        "id": "RBMPA6heQmZS",
        "outputId": "877c42c2-315a-4f6a-8d96-cebdcab7e440"
      },
      "outputs": [
        {
          "output_type": "stream",
          "name": "stdout",
          "text": [
            "34\n"
          ]
        }
      ],
      "source": [
        "def fib(n):\n",
        "    F = [[1, 1],\n",
        "         [1, 0]]\n",
        "    if (n == 0):\n",
        "        return 0\n",
        "    power(F, n - 1)\n",
        "    return F[0][0]\n",
        "\n",
        "\n",
        "def multiply(F, M):\n",
        "  x = (F[0][0] * M[0][0] + F[0][1] * M[1][0])\n",
        "  y = (F[0][0] * M[0][1] + F[0][1] * M[1][1])\n",
        "  z = (F[1][0] * M[0][0] + F[1][1] * M[1][0])\n",
        "  w = (F[1][0] * M[0][1] + F[1][1] * M[1][1])\n",
        "  F[0][0] = x\n",
        "  F[0][1] = y\n",
        "  F[1][0] = z\n",
        "  F[1][1] = w\n",
        "\n",
        "\n",
        "def power(F, n):\n",
        "    M = [[1, 1], [1, 0]]\n",
        "    # n - 1 times multiply the\n",
        "    # matrix to {{1,0},{0,1}}\n",
        "    for i in range(2, n + 1):\n",
        "        multiply(F, M)\n",
        "\n",
        "\n",
        "# Driver Code\n",
        "if __name__ == \"__main__\":\n",
        "    n = 9\n",
        "    print(fib(n))"
      ]
    }
  ]
}