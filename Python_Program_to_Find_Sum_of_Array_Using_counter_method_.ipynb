{
  "nbformat": 4,
  "nbformat_minor": 0,
  "metadata": {
    "colab": {
      "provenance": [],
      "authorship_tag": "ABX9TyO4qPq82Xa0qAwJoWsMNzjj",
      "include_colab_link": true
    },
    "kernelspec": {
      "name": "python3",
      "display_name": "Python 3"
    },
    "language_info": {
      "name": "python"
    }
  },
  "cells": [
    {
      "cell_type": "markdown",
      "metadata": {
        "id": "view-in-github",
        "colab_type": "text"
      },
      "source": [
        "<a href=\"https://colab.research.google.com/github/pavanikonatham4/python/blob/main/Python_Program_to_Find_Sum_of_Array_Using_counter_method_.ipynb\" target=\"_parent\"><img src=\"https://colab.research.google.com/assets/colab-badge.svg\" alt=\"Open In Colab\"/></a>"
      ]
    },
    {
      "cell_type": "code",
      "execution_count": 1,
      "metadata": {
        "colab": {
          "base_uri": "https://localhost:8080/"
        },
        "id": "JqABCrhAiJ4z",
        "outputId": "6a5d3d2a-4dbe-4376-cd69-9501b68acf97"
      },
      "outputs": [
        {
          "output_type": "stream",
          "name": "stdout",
          "text": [
            "Sum of the array is 34\n"
          ]
        }
      ],
      "source": [
        "from collections import Counter\n",
        "\n",
        "arr = [12, 3, 4, 15]\n",
        "c = Counter(arr)\n",
        "sum = 0\n",
        "\n",
        "for key, value in c.items():\n",
        "\tsum += key * value\n",
        "\n",
        "print(\"Sum of the array is\", sum)\n"
      ]
    }
  ]
}