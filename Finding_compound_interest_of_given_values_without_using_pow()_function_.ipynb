{
  "nbformat": 4,
  "nbformat_minor": 0,
  "metadata": {
    "colab": {
      "provenance": [],
      "authorship_tag": "ABX9TyP5e+olW1AsI5ED+8FSqldB",
      "include_colab_link": true
    },
    "kernelspec": {
      "name": "python3",
      "display_name": "Python 3"
    },
    "language_info": {
      "name": "python"
    }
  },
  "cells": [
    {
      "cell_type": "markdown",
      "metadata": {
        "id": "view-in-github",
        "colab_type": "text"
      },
      "source": [
        "<a href=\"https://colab.research.google.com/github/pavanikonatham4/python/blob/main/Finding_compound_interest_of_given_values_without_using_pow()_function_.ipynb\" target=\"_parent\"><img src=\"https://colab.research.google.com/assets/colab-badge.svg\" alt=\"Open In Colab\"/></a>"
      ]
    },
    {
      "cell_type": "code",
      "execution_count": 1,
      "metadata": {
        "colab": {
          "base_uri": "https://localhost:8080/"
        },
        "id": "axD8zG_55sWU",
        "outputId": "9f9e7279-eec3-41c9-9ae8-26c1926d47ea"
      },
      "outputs": [
        {
          "output_type": "stream",
          "name": "stdout",
          "text": [
            "133.0992000000001\n"
          ]
        }
      ],
      "source": [
        "# Python code\n",
        "# To find compound interest\n",
        "\n",
        "# inputs\n",
        "p= 1200 # principal amount\n",
        "t= 2\t # time\n",
        "r= 5.4 # rate\n",
        "# calculates the compound interest\n",
        "a=p*(1+(r/100))**t # formula for calculating amount\n",
        "ci=a-p # compound interest = amount - principal amount\n",
        "# printing compound interest value\n",
        "print(ci)\n"
      ]
    }
  ]
}