{
  "nbformat": 4,
  "nbformat_minor": 0,
  "metadata": {
    "colab": {
      "provenance": [],
      "authorship_tag": "ABX9TyNgPYr4sw3cXmEQJUrSUi/P",
      "include_colab_link": true
    },
    "kernelspec": {
      "name": "python3",
      "display_name": "Python 3"
    },
    "language_info": {
      "name": "python"
    }
  },
  "cells": [
    {
      "cell_type": "markdown",
      "metadata": {
        "id": "view-in-github",
        "colab_type": "text"
      },
      "source": [
        "<a href=\"https://colab.research.google.com/github/pavanikonatham4/python/blob/main/Python_program_to_interchange_first_and_last_elements_in_a_list.ipynb\" target=\"_parent\"><img src=\"https://colab.research.google.com/assets/colab-badge.svg\" alt=\"Open In Colab\"/></a>"
      ]
    },
    {
      "cell_type": "code",
      "execution_count": 1,
      "metadata": {
        "colab": {
          "base_uri": "https://localhost:8080/"
        },
        "id": "2fmni8r1n9r5",
        "outputId": "ae8d1f08-b014-43b7-b921-0dfdee3138fc"
      },
      "outputs": [
        {
          "output_type": "stream",
          "name": "stdout",
          "text": [
            "List after swapping first and last elements: [5, 2, 3, 4, 1]\n"
          ]
        }
      ],
      "source": [
        "# Initialize a list\n",
        "my_list = [1, 2, 3, 4, 5]\n",
        "\n",
        "# Interchange first and last elements\n",
        "my_list[0], my_list[-1] = my_list[-1], my_list[0]\n",
        "\n",
        "# Print the modified list\n",
        "print(\"List after swapping first and last elements:\", my_list)\n"
      ]
    }
  ]
}