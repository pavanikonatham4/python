{
  "nbformat": 4,
  "nbformat_minor": 0,
  "metadata": {
    "colab": {
      "provenance": [],
      "authorship_tag": "ABX9TyP3pc1DdC/tFEd3o+MoE2Bi",
      "include_colab_link": true
    },
    "kernelspec": {
      "name": "python3",
      "display_name": "Python 3"
    },
    "language_info": {
      "name": "python"
    }
  },
  "cells": [
    {
      "cell_type": "markdown",
      "metadata": {
        "id": "view-in-github",
        "colab_type": "text"
      },
      "source": [
        "<a href=\"https://colab.research.google.com/github/pavanikonatham4/python/blob/main/Prime.ipynb\" target=\"_parent\"><img src=\"https://colab.research.google.com/assets/colab-badge.svg\" alt=\"Open In Colab\"/></a>"
      ]
    },
    {
      "cell_type": "code",
      "execution_count": 1,
      "metadata": {
        "colab": {
          "base_uri": "https://localhost:8080/"
        },
        "id": "59ZS2yIxWPys",
        "outputId": "1c3bcb71-fac6-4688-c734-61a9f9e4f5ac"
      },
      "outputs": [
        {
          "output_type": "stream",
          "name": "stdout",
          "text": [
            "[2, 3, 5, 7]\n"
          ]
        }
      ],
      "source": [
        "x, y = 2, 7  # define the range [x, y]\n",
        "\n",
        "# create a boolean list to mark primes, assume all are prime initially\n",
        "primes = [True] * (y + 1)\n",
        "\n",
        "# 0 and 1 are not prime\n",
        "primes[0], primes[1] = False, False\n",
        "\n",
        "# Sieve of Eratosthenes to mark non-primes\n",
        "for i in range(2, int(y ** 0.5) + 1):\n",
        "    if primes[i]:\n",
        "        for j in range(i * i, y + 1, i):\n",
        "            primes[j] = False\n",
        "\n",
        "# collect primes in the range [x, y]\n",
        "res = [i for i in range(x, y + 1) if primes[i]]\n",
        "print(res if res else \"No\")"
      ]
    }
  ]
}