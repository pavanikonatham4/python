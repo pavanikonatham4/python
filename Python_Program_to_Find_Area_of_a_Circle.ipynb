{
  "nbformat": 4,
  "nbformat_minor": 0,
  "metadata": {
    "colab": {
      "provenance": [],
      "authorship_tag": "ABX9TyODP/mXogh8SOLvaz+M54Zk",
      "include_colab_link": true
    },
    "kernelspec": {
      "name": "python3",
      "display_name": "Python 3"
    },
    "language_info": {
      "name": "python"
    }
  },
  "cells": [
    {
      "cell_type": "markdown",
      "metadata": {
        "id": "view-in-github",
        "colab_type": "text"
      },
      "source": [
        "<a href=\"https://colab.research.google.com/github/pavanikonatham4/python/blob/main/Python_Program_to_Find_Area_of_a_Circle.ipynb\" target=\"_parent\"><img src=\"https://colab.research.google.com/assets/colab-badge.svg\" alt=\"Open In Colab\"/></a>"
      ]
    },
    {
      "cell_type": "code",
      "execution_count": 1,
      "metadata": {
        "colab": {
          "base_uri": "https://localhost:8080/"
        },
        "id": "h97qz8cjoABk",
        "outputId": "28d26ea9-b8ca-4bf4-94ef-f5e0aa4c4672"
      },
      "outputs": [
        {
          "output_type": "stream",
          "name": "stdout",
          "text": [
            "Area is 78.550000\n"
          ]
        }
      ],
      "source": [
        "# Python program to find Area of a circle\n",
        "\n",
        "def findArea(r):\n",
        "    PI = 3.142\n",
        "    return PI * (r*r);\n",
        "\n",
        "# Driver method\n",
        "print(\"Area is %.6f\" % findArea(5));"
      ]
    }
  ]
}