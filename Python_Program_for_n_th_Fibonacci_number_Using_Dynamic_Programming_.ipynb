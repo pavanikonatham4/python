{
  "nbformat": 4,
  "nbformat_minor": 0,
  "metadata": {
    "colab": {
      "provenance": [],
      "authorship_tag": "ABX9TyMQ+aftULnAwRd2BWR6CtOE",
      "include_colab_link": true
    },
    "kernelspec": {
      "name": "python3",
      "display_name": "Python 3"
    },
    "language_info": {
      "name": "python"
    }
  },
  "cells": [
    {
      "cell_type": "markdown",
      "metadata": {
        "id": "view-in-github",
        "colab_type": "text"
      },
      "source": [
        "<a href=\"https://colab.research.google.com/github/pavanikonatham4/python/blob/main/Python_Program_for_n_th_Fibonacci_number_Using_Dynamic_Programming_.ipynb\" target=\"_parent\"><img src=\"https://colab.research.google.com/assets/colab-badge.svg\" alt=\"Open In Colab\"/></a>"
      ]
    },
    {
      "cell_type": "code",
      "execution_count": 1,
      "metadata": {
        "colab": {
          "base_uri": "https://localhost:8080/"
        },
        "id": "9yZNYzVA3Goc",
        "outputId": "7b92a7b5-c7c8-4482-e51d-3473f756f441"
      },
      "outputs": [
        {
          "output_type": "stream",
          "name": "stdout",
          "text": [
            "21\n"
          ]
        }
      ],
      "source": [
        "FibArray = [0, 1]\n",
        "\n",
        "def fibonacci(n):\n",
        "    if n<0:\n",
        "        print(\"Incorrect input\")\n",
        "    elif n<= len(FibArray):\n",
        "        return FibArray[n-1]\n",
        "    else:\n",
        "        temp_fib = fibonacci(n-1)+fibonacci(n-2)\n",
        "        FibArray.append(temp_fib)\n",
        "        return temp_fib\n",
        "\n",
        "# Driver Program\n",
        "\n",
        "print(fibonacci(9))"
      ]
    }
  ]
}